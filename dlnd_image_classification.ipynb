{
 "cells": [
  {
   "cell_type": "markdown",
   "metadata": {
    "collapsed": true,
    "deletable": true,
    "editable": true
   },
   "source": [
    "# Image Classification\n",
    "In this project, you'll classify images from the [CIFAR-10 dataset](https://www.cs.toronto.edu/~kriz/cifar.html).  The dataset consists of airplanes, dogs, cats, and other objects. You'll preprocess the images, then train a convolutional neural network on all the samples. The images need to be normalized and the labels need to be one-hot encoded.  You'll get to apply what you learned and build a convolutional, max pooling, dropout, and fully connected layers.  At the end, you'll get to see your neural network's predictions on the sample images.\n",
    "## Get the Data\n",
    "Run the following cell to download the [CIFAR-10 dataset for python](https://www.cs.toronto.edu/~kriz/cifar-10-python.tar.gz)."
   ]
  },
  {
   "cell_type": "code",
   "execution_count": 1,
   "metadata": {
    "collapsed": false,
    "deletable": true,
    "editable": true
   },
   "outputs": [
    {
     "name": "stdout",
     "output_type": "stream",
     "text": [
      "All files found!\n"
     ]
    }
   ],
   "source": [
    "\"\"\"\n",
    "DON'T MODIFY ANYTHING IN THIS CELL THAT IS BELOW THIS LINE\n",
    "\"\"\"\n",
    "from urllib.request import urlretrieve\n",
    "from os.path import isfile, isdir\n",
    "from tqdm import tqdm\n",
    "import problem_unittests as tests\n",
    "import tarfile\n",
    "\n",
    "cifar10_dataset_folder_path = 'cifar-10-batches-py'\n",
    "\n",
    "class DLProgress(tqdm):\n",
    "    last_block = 0\n",
    "\n",
    "    def hook(self, block_num=1, block_size=1, total_size=None):\n",
    "        self.total = total_size\n",
    "        self.update((block_num - self.last_block) * block_size)\n",
    "        self.last_block = block_num\n",
    "\n",
    "if not isfile('cifar-10-python.tar.gz'):\n",
    "    with DLProgress(unit='B', unit_scale=True, miniters=1, desc='CIFAR-10 Dataset') as pbar:\n",
    "        urlretrieve(\n",
    "            'https://www.cs.toronto.edu/~kriz/cifar-10-python.tar.gz',\n",
    "            'cifar-10-python.tar.gz',\n",
    "            pbar.hook)\n",
    "\n",
    "if not isdir(cifar10_dataset_folder_path):\n",
    "    with tarfile.open('cifar-10-python.tar.gz') as tar:\n",
    "        tar.extractall()\n",
    "        tar.close()\n",
    "\n",
    "\n",
    "tests.test_folder_path(cifar10_dataset_folder_path)"
   ]
  },
  {
   "cell_type": "markdown",
   "metadata": {
    "deletable": true,
    "editable": true
   },
   "source": [
    "## Explore the Data\n",
    "The dataset is broken into batches to prevent your machine from running out of memory.  The CIFAR-10 dataset consists of 5 batches, named `data_batch_1`, `data_batch_2`, etc.. Each batch contains the labels and images that are one of the following:\n",
    "* airplane\n",
    "* automobile\n",
    "* bird\n",
    "* cat\n",
    "* deer\n",
    "* dog\n",
    "* frog\n",
    "* horse\n",
    "* ship\n",
    "* truck\n",
    "\n",
    "Understanding a dataset is part of making predictions on the data.  Play around with the code cell below by changing the `batch_id` and `sample_id`. The `batch_id` is the id for a batch (1-5). The `sample_id` is the id for a image and label pair in the batch.\n",
    "\n",
    "Ask yourself \"What are all possible labels?\", \"What is the range of values for the image data?\", \"Are the labels in order or random?\".  Answers to questions like these will help you preprocess the data and end up with better predictions."
   ]
  },
  {
   "cell_type": "code",
   "execution_count": 2,
   "metadata": {
    "collapsed": false,
    "deletable": true,
    "editable": true
   },
   "outputs": [
    {
     "name": "stdout",
     "output_type": "stream",
     "text": [
      "\n",
      "Stats of batch 1:\n",
      "Samples: 10000\n",
      "Label Counts: {0: 1005, 1: 974, 2: 1032, 3: 1016, 4: 999, 5: 937, 6: 1030, 7: 1001, 8: 1025, 9: 981}\n",
      "First 20 Labels: [6, 9, 9, 4, 1, 1, 2, 7, 8, 3, 4, 7, 7, 2, 9, 9, 9, 3, 2, 6]\n",
      "\n",
      "Example of Image 6:\n",
      "Image - Min Value: 7 Max Value: 249\n",
      "Image - Shape: (32, 32, 3)\n",
      "Label - Label Id: 2 Name: bird\n"
     ]
    },
    {
     "data": {
      "image/png": "[encoded data removed]",
      "text/plain": [
       "<matplotlib.figure.Figure at 0x7f49f85fd4e0>"
      ]
     },
     "metadata": {
      "image/png": {
       "height": 250,
       "width": 253
      }
     },
     "output_type": "display_data"
    }
   ],
   "source": [
    "%matplotlib inline\n",
    "%config InlineBackend.figure_format = 'retina'\n",
    "\n",
    "import helper\n",
    "import numpy as np\n",
    "\n",
    "# Explore the dataset\n",
    "batch_id = 1\n",
    "sample_id = 6\n",
    "helper.display_stats(cifar10_dataset_folder_path, batch_id, sample_id)"
   ]
  },
  {
   "cell_type": "markdown",
   "metadata": {
    "deletable": true,
    "editable": true
   },
   "source": [
    "## Implement Preprocess Functions\n",
    "### Normalize\n",
    "In the cell below, implement the `normalize` function to take in image data, `x`, and return it as a normalized Numpy array. The values should be in the range of 0 to 1, inclusive.  The return object should be the same shape as `x`."
   ]
  },
  {
   "cell_type": "code",
   "execution_count": 3,
   "metadata": {
    "collapsed": false,
    "deletable": true,
    "editable": true
   },
   "outputs": [
    {
     "name": "stdout",
     "output_type": "stream",
     "text": [
      "Tests Passed\n"
     ]
    }
   ],
   "source": [
    "def normalize(x):\n",
    "    \"\"\"\n",
    "    Normalize a list of sample image data in the range of 0 to 1\n",
    "    : x: List of image data.  The image shape is (32, 32, 3)\n",
    "    : return: Numpy array of normalize data\n",
    "    \"\"\"\n",
    "    # TODO: Implement Function\n",
    "    return x/255\n",
    "\n",
    "\n",
    "\"\"\"\n",
    "DON'T MODIFY ANYTHING IN THIS CELL THAT IS BELOW THIS LINE\n",
    "\"\"\"\n",
    "tests.test_normalize(normalize)"
   ]
  },
  {
   "cell_type": "markdown",
   "metadata": {
    "deletable": true,
    "editable": true
   },
   "source": [
    "### One-hot encode\n",
    "Just like the previous code cell, you'll be implementing a function for preprocessing.  This time, you'll implement the `one_hot_encode` function. The input, `x`, are a list of labels.  Implement the function to return the list of labels as One-Hot encoded Numpy array.  The possible values for labels are 0 to 9. The one-hot encoding function should return the same encoding for each value between each call to `one_hot_encode`.  Make sure to save the map of encodings outside the function.\n",
    "\n",
    "Hint: Don't reinvent the wheel."
   ]
  },
  {
   "cell_type": "code",
   "execution_count": 4,
   "metadata": {
    "collapsed": false,
    "deletable": true,
    "editable": true
   },
   "outputs": [
    {
     "name": "stdout",
     "output_type": "stream",
     "text": [
      "Tests Passed\n"
     ]
    }
   ],
   "source": [
    "map = np.eye(10)\n",
    "\n",
    "def one_hot_encode(x):\n",
    "    \"\"\"\n",
    "    One hot encode a list of sample labels. Return a one-hot encoded vector for each label.\n",
    "    : x: List of sample Labels\n",
    "    : return: Numpy array of one-hot encoded labels\n",
    "    \"\"\"\n",
    "    # TODO: Implement Function\n",
    "    return np.vstack([map[y,:] for y in x])\n",
    "\n",
    "\"\"\"\n",
    "DON'T MODIFY ANYTHING IN THIS CELL THAT IS BELOW THIS LINE\n",
    "\"\"\"\n",
    "tests.test_one_hot_encode(one_hot_encode)"
   ]
  },
  {
   "cell_type": "markdown",
   "metadata": {
    "deletable": true,
    "editable": true
   },
   "source": [
    "### Randomize Data\n",
    "As you saw from exploring the data above, the order of the samples are randomized.  It doesn't hurt to randomize it again, but you don't need to for this dataset."
   ]
  },
  {
   "cell_type": "markdown",
   "metadata": {
    "deletable": true,
    "editable": true
   },
   "source": [
    "## Preprocess all the data and save it\n",
    "Running the code cell below will preprocess all the CIFAR-10 data and save it to file. The code below also uses 10% of the training data for validation."
   ]
  },
  {
   "cell_type": "code",
   "execution_count": 5,
   "metadata": {
    "collapsed": false,
    "deletable": true,
    "editable": true
   },
   "outputs": [],
   "source": [
    "\"\"\"\n",
    "DON'T MODIFY ANYTHING IN THIS CELL\n",
    "\"\"\"\n",
    "# Preprocess Training, Validation, and Testing Data\n",
    "helper.preprocess_and_save_data(cifar10_dataset_folder_path, normalize, one_hot_encode)"
   ]
  },
  {
   "cell_type": "markdown",
   "metadata": {
    "deletable": true,
    "editable": true
   },
   "source": [
    "# Check Point\n",
    "This is your first checkpoint.  If you ever decide to come back to this notebook or have to restart the notebook, you can start from here.  The preprocessed data has been saved to disk."
   ]
  },
  {
   "cell_type": "code",
   "execution_count": 6,
   "metadata": {
    "collapsed": true,
    "deletable": true,
    "editable": true
   },
   "outputs": [],
   "source": [
    "\"\"\"\n",
    "DON'T MODIFY ANYTHING IN THIS CELL\n",
    "\"\"\"\n",
    "import pickle\n",
    "import problem_unittests as tests\n",
    "import helper\n",
    "\n",
    "# Load the Preprocessed Validation data\n",
    "valid_features, valid_labels = pickle.load(open('preprocess_validation.p', mode='rb'))"
   ]
  },
  {
   "cell_type": "markdown",
   "metadata": {
    "deletable": true,
    "editable": true
   },
   "source": [
    "## Build the network\n",
    "For the neural network, you'll build each layer into a function.  Most of the code you've seen has been outside of functions. To test your code more thoroughly, we require that you put each layer in a function.  This allows us to give you better feedback and test for simple mistakes using our unittests before you submit your project.\n",
    "\n",
    ">**Note:** If you're finding it hard to dedicate enough time for this course each week, we've provided a small shortcut to this part of the project. In the next couple of problems, you'll have the option to use classes from the [TensorFlow Layers](https://www.tensorflow.org/api_docs/python/tf/layers) or [TensorFlow Layers (contrib)](https://www.tensorflow.org/api_guides/python/contrib.layers) packages to build each layer, except the layers you build in the \"Convolutional and Max Pooling Layer\" section.  TF Layers is similar to Keras's and TFLearn's abstraction to layers, so it's easy to pickup.\n",
    "\n",
    ">However, if you would like to get the most out of this course, try to solve all the problems _without_ using anything from the TF Layers packages. You **can** still use classes from other packages that happen to have the same name as ones you find in TF Layers! For example, instead of using the TF Layers version of the `conv2d` class, [tf.layers.conv2d](https://www.tensorflow.org/api_docs/python/tf/layers/conv2d), you would want to use the TF Neural Network version of `conv2d`, [tf.nn.conv2d](https://www.tensorflow.org/api_docs/python/tf/nn/conv2d). \n",
    "\n",
    "Let's begin!\n",
    "\n",
    "### Input\n",
    "The neural network needs to read the image data, one-hot encoded labels, and dropout keep probability. Implement the following functions\n",
    "* Implement `neural_net_image_input`\n",
    " * Return a [TF Placeholder](https://www.tensorflow.org/api_docs/python/tf/placeholder)\n",
    " * Set the shape using `image_shape` with batch size set to `None`.\n",
    " * Name the TensorFlow placeholder \"x\" using the TensorFlow `name` parameter in the [TF Placeholder](https://www.tensorflow.org/api_docs/python/tf/placeholder).\n",
    "* Implement `neural_net_label_input`\n",
    " * Return a [TF Placeholder](https://www.tensorflow.org/api_docs/python/tf/placeholder)\n",
    " * Set the shape using `n_classes` with batch size set to `None`.\n",
    " * Name the TensorFlow placeholder \"y\" using the TensorFlow `name` parameter in the [TF Placeholder](https://www.tensorflow.org/api_docs/python/tf/placeholder).\n",
    "* Implement `neural_net_keep_prob_input`\n",
    " * Return a [TF Placeholder](https://www.tensorflow.org/api_docs/python/tf/placeholder) for dropout keep probability.\n",
    " * Name the TensorFlow placeholder \"keep_prob\" using the TensorFlow `name` parameter in the [TF Placeholder](https://www.tensorflow.org/api_docs/python/tf/placeholder).\n",
    "\n",
    "These names will be used at the end of the project to load your saved model.\n",
    "\n",
    "Note: `None` for shapes in TensorFlow allow for a dynamic size."
   ]
  },
  {
   "cell_type": "code",
   "execution_count": 7,
   "metadata": {
    "collapsed": false,
    "deletable": true,
    "editable": true
   },
   "outputs": [
    {
     "name": "stdout",
     "output_type": "stream",
     "text": [
      "Image Input Tests Passed.\n",
      "Label Input Tests Passed.\n",
      "Keep Prob Tests Passed.\n"
     ]
    }
   ],
   "source": [
    "import tensorflow as tf\n",
    "\n",
    "def neural_net_image_input(image_shape):\n",
    "    \"\"\"\n",
    "    Return a Tensor for a bach of image input\n",
    "    : image_shape: Shape of the images\n",
    "    : return: Tensor for image input.\n",
    "    \"\"\"\n",
    "    # TODO: Implement Function\n",
    "    return tf.placeholder(tf.float32, shape=[None] + list(image_shape), name='x')\n",
    "\n",
    "def neural_net_label_input(n_classes):\n",
    "    \"\"\"\n",
    "    Return a Tensor for a batch of label input\n",
    "    : n_classes: Number of classes\n",
    "    : return: Tensor for label input.\n",
    "    \"\"\"\n",
    "    # TODO: Implement Function\n",
    "    return tf.placeholder(tf.float32, shape=[None, n_classes], name='y')\n",
    "\n",
    "def neural_net_keep_prob_input():\n",
    "    \"\"\"\n",
    "    Return a Tensor for keep probability\n",
    "    : return: Tensor for keep probability.\n",
    "    \"\"\"\n",
    "    # TODO: Implement Function\n",
    "    return tf.placeholder(tf.float32, name='keep_prob')\n",
    "\n",
    "\"\"\"\n",
    "DON'T MODIFY ANYTHING IN THIS CELL THAT IS BELOW THIS LINE\n",
    "\"\"\"\n",
    "tf.reset_default_graph()\n",
    "tests.test_nn_image_inputs(neural_net_image_input)\n",
    "tests.test_nn_label_inputs(neural_net_label_input)\n",
    "tests.test_nn_keep_prob_inputs(neural_net_keep_prob_input)"
   ]
  },
  {
   "cell_type": "markdown",
   "metadata": {
    "deletable": true,
    "editable": true
   },
   "source": [
    "### Convolution and Max Pooling Layer\n",
    "Convolution layers have a lot of success with images. For this code cell, you should implement the function `conv2d_maxpool` to apply convolution then max pooling:\n",
    "* Create the weight and bias using `conv_ksize`, `conv_num_outputs` and the shape of `x_tensor`.\n",
    "* Apply a convolution to `x_tensor` using weight and `conv_strides`.\n",
    " * We recommend you use same padding, but you're welcome to use any padding.\n",
    "* Add bias\n",
    "* Add a nonlinear activation to the convolution.\n",
    "* Apply Max Pooling using `pool_ksize` and `pool_strides`.\n",
    " * We recommend you use same padding, but you're welcome to use any padding.\n",
    "\n",
    "**Note:** You **can't** use [TensorFlow Layers](https://www.tensorflow.org/api_docs/python/tf/layers) or [TensorFlow Layers (contrib)](https://www.tensorflow.org/api_guides/python/contrib.layers) for **this** layer, but you can still use TensorFlow's [Neural Network](https://www.tensorflow.org/api_docs/python/tf/nn) package. You may still use the shortcut option for all the **other** layers."
   ]
  },
  {
   "cell_type": "code",
   "execution_count": 8,
   "metadata": {
    "collapsed": false,
    "deletable": true,
    "editable": true
   },
   "outputs": [
    {
     "name": "stdout",
     "output_type": "stream",
     "text": [
      "Tests Passed\n"
     ]
    }
   ],
   "source": [
    "meaninit = 0.001\n",
    "stddevinit = 0.05\n",
    "\n",
    "def conv2d_maxpool(x_tensor, conv_num_outputs, conv_ksize, conv_strides, pool_ksize, pool_strides):\n",
    "    \"\"\"\n",
    "    Apply convolution then max pooling to x_tensor\n",
    "    :param x_tensor: TensorFlow Tensor\n",
    "    :param conv_num_outputs: Number of outputs for the convolutional layer\n",
    "    :param conv_ksize: kernal size 2-D Tuple for the convolutional layer\n",
    "    :param conv_strides: Stride 2-D Tuple for convolution\n",
    "    :param pool_ksize: kernal size 2-D Tuple for pool\n",
    "    :param pool_strides: Stride 2-D Tuple for pool\n",
    "    : return: A tensor that represents convolution and max pooling of x_tensor\n",
    "    \"\"\"\n",
    "    # TODO: Implement Function\n",
    "    x_batch, x_height, x_width, x_depth = x_tensor.shape\n",
    "    filter_weights = tf.Variable(tf.truncated_normal(mean=meaninit, stddev=stddevinit, shape=[*conv_ksize, x_depth.value, conv_num_outputs]))\n",
    "    bias = tf.Variable(tf.truncated_normal(mean=meaninit, stddev=stddevinit, shape=[conv_num_outputs]))\n",
    "    x_tensor = tf.nn.conv2d(x_tensor, filter_weights, strides=[1, *conv_strides, 1], padding='SAME')\n",
    "    x_tensor = tf.nn.bias_add(x_tensor, bias)\n",
    "    x_tensor = tf.nn.relu(x_tensor)\n",
    "    x_tensor = tf.nn.max_pool(x_tensor, ksize=[1, *pool_ksize, 1], strides=[1, *pool_strides, 1], padding='SAME')\n",
    "    return x_tensor \n",
    "\n",
    "\n",
    "\"\"\"\n",
    "DON'T MODIFY ANYTHING IN THIS CELL THAT IS BELOW THIS LINE\n",
    "\"\"\"\n",
    "tests.test_con_pool(conv2d_maxpool)"
   ]
  },
  {
   "cell_type": "markdown",
   "metadata": {
    "deletable": true,
    "editable": true
   },
   "source": [
    "### Flatten Layer\n",
    "Implement the `flatten` function to change the dimension of `x_tensor` from a 4-D tensor to a 2-D tensor.  The output should be the shape (*Batch Size*, *Flattened Image Size*). Shortcut option: you can use classes from the [TensorFlow Layers](https://www.tensorflow.org/api_docs/python/tf/layers) or [TensorFlow Layers (contrib)](https://www.tensorflow.org/api_guides/python/contrib.layers) packages for this layer. For more of a challenge, only use other TensorFlow packages."
   ]
  },
  {
   "cell_type": "code",
   "execution_count": 9,
   "metadata": {
    "collapsed": false,
    "deletable": true,
    "editable": true
   },
   "outputs": [
    {
     "name": "stdout",
     "output_type": "stream",
     "text": [
      "Tests Passed\n"
     ]
    }
   ],
   "source": [
    "from functools import reduce\n",
    "\n",
    "def flatten(x_tensor):\n",
    "    \"\"\"\n",
    "    Flatten x_tensor to (Batch Size, Flattened Image Size)\n",
    "    : x_tensor: A tensor of size (Batch Size, ...), where ... are the image dimensions.\n",
    "    : return: A tensor of size (Batch Size, Flattened Image Size).\n",
    "    \"\"\"\n",
    "    # TODO: Implement Function\n",
    "    old_shape = x_tensor.get_shape()\n",
    "    flattened_image_size = np.prod([x for x in old_shape[1:]])\n",
    "    new_shape = [-1, flattened_image_size.value]\n",
    "    return tf.reshape(x_tensor, new_shape)\n",
    "\n",
    "\"\"\"\n",
    "DON'T MODIFY ANYTHING IN THIS CELL THAT IS BELOW THIS LINE\n",
    "\"\"\"\n",
    "tests.test_flatten(flatten)"
   ]
  },
  {
   "cell_type": "markdown",
   "metadata": {
    "deletable": true,
    "editable": true
   },
   "source": [
    "### Fully-Connected Layer\n",
    "Implement the `fully_conn` function to apply a fully connected layer to `x_tensor` with the shape (*Batch Size*, *num_outputs*). Shortcut option: you can use classes from the [TensorFlow Layers](https://www.tensorflow.org/api_docs/python/tf/layers) or [TensorFlow Layers (contrib)](https://www.tensorflow.org/api_guides/python/contrib.layers) packages for this layer. For more of a challenge, only use other TensorFlow packages."
   ]
  },
  {
   "cell_type": "code",
   "execution_count": 10,
   "metadata": {
    "collapsed": false,
    "deletable": true,
    "editable": true
   },
   "outputs": [
    {
     "name": "stdout",
     "output_type": "stream",
     "text": [
      "Tests Passed\n"
     ]
    }
   ],
   "source": [
    "def fully_conn(x_tensor, num_outputs):\n",
    "    \"\"\"\n",
    "    Apply a fully connected layer to x_tensor using weight and bias\n",
    "    : x_tensor: A 2-D tensor where the first dimension is batch size.\n",
    "    : num_outputs: The number of output that the new tensor should be.\n",
    "    : return: A 2-D tensor where the second dimension is num_outputs.\n",
    "    \"\"\"\n",
    "    # TODO: Implement Function\n",
    "    weights = tf.Variable(tf.truncated_normal(mean=meaninit, stddev=stddevinit, shape=[x_tensor.shape[1].value, num_outputs]))\n",
    "    bias = tf.Variable(tf.truncated_normal(mean=meaninit, stddev=stddevinit, shape=[num_outputs]))\n",
    "    return tf.nn.relu(tf.add(tf.matmul(x_tensor, weights), bias))\n",
    "\n",
    "\"\"\"\n",
    "DON'T MODIFY ANYTHING IN THIS CELL THAT IS BELOW THIS LINE\n",
    "\"\"\"\n",
    "tests.test_fully_conn(fully_conn)"
   ]
  },
  {
   "cell_type": "markdown",
   "metadata": {
    "deletable": true,
    "editable": true
   },
   "source": [
    "### Output Layer\n",
    "Implement the `output` function to apply a fully connected layer to `x_tensor` with the shape (*Batch Size*, *num_outputs*). Shortcut option: you can use classes from the [TensorFlow Layers](https://www.tensorflow.org/api_docs/python/tf/layers) or [TensorFlow Layers (contrib)](https://www.tensorflow.org/api_guides/python/contrib.layers) packages for this layer. For more of a challenge, only use other TensorFlow packages.\n",
    "\n",
    "**Note:** Activation, softmax, or cross entropy should **not** be applied to this."
   ]
  },
  {
   "cell_type": "code",
   "execution_count": 11,
   "metadata": {
    "collapsed": false,
    "deletable": true,
    "editable": true
   },
   "outputs": [
    {
     "name": "stdout",
     "output_type": "stream",
     "text": [
      "Tests Passed\n"
     ]
    }
   ],
   "source": [
    "def output(x_tensor, num_outputs):\n",
    "    \"\"\"\n",
    "    Apply a output layer to x_tensor using weight and bias\n",
    "    : x_tensor: A 2-D tensor where the first dimension is batch size.\n",
    "    : num_outputs: The number of output that the new tensor should be.\n",
    "    : return: A 2-D tensor where the second dimension is num_outputs.\n",
    "    \"\"\"\n",
    "    # TODO: Implement Function\n",
    "    weights = tf.Variable(tf.truncated_normal(mean=meaninit, stddev=stddevinit, shape=[x_tensor.shape[1].value, num_outputs]))\n",
    "    bias = tf.Variable(tf.truncated_normal(mean=meaninit, stddev=stddevinit, shape=[num_outputs]))\n",
    "    return tf.add(tf.matmul(x_tensor, weights), bias)\n",
    "\"\"\"\n",
    "DON'T MODIFY ANYTHING IN THIS CELL THAT IS BELOW THIS LINE\n",
    "\"\"\"\n",
    "tests.test_output(output)"
   ]
  },
  {
   "cell_type": "markdown",
   "metadata": {
    "deletable": true,
    "editable": true
   },
   "source": [
    "### Create Convolutional Model\n",
    "Implement the function `conv_net` to create a convolutional neural network model. The function takes in a batch of images, `x`, and outputs logits.  Use the layers you created above to create this model:\n",
    "\n",
    "* Apply 1, 2, or 3 Convolution and Max Pool layers\n",
    "* Apply a Flatten Layer\n",
    "* Apply 1, 2, or 3 Fully Connected Layers\n",
    "* Apply an Output Layer\n",
    "* Return the output\n",
    "* Apply [TensorFlow's Dropout](https://www.tensorflow.org/api_docs/python/tf/nn/dropout) to one or more layers in the model using `keep_prob`. "
   ]
  },
  {
   "cell_type": "code",
   "execution_count": 12,
   "metadata": {
    "collapsed": false,
    "deletable": true,
    "editable": true
   },
   "outputs": [
    {
     "name": "stdout",
     "output_type": "stream",
     "text": [
      "Neural Network Built!\n"
     ]
    }
   ],
   "source": [
    "def conv_net(x, keep_prob):\n",
    "    \"\"\"\n",
    "    Create a convolutional neural network model\n",
    "    : x: Placeholder tensor that holds image data.\n",
    "    : keep_prob: Placeholder tensor that hold dropout keep probability.\n",
    "    : return: Tensor that represents logits\n",
    "    \"\"\"\n",
    "    # TODO: Apply 1, 2, or 3 Convolution and Max Pool layers\n",
    "    #    Play around with different number of outputs, kernel size and stride\n",
    "    # Function Definition from Above:\n",
    "    #    conv2d_maxpool(x_tensor, conv_num_outputs, conv_ksize, conv_strides, pool_ksize, pool_strides)\n",
    "    \n",
    "    x = conv2d_maxpool(x, 16, (5, 5), (1, 1), (2, 2), (2, 2))\n",
    "    x = conv2d_maxpool(x, 32, (5, 5), (1, 1), (2, 2), (2, 2))\n",
    "    x = conv2d_maxpool(x, 64, (5, 5), (1, 1), (2, 2), (2, 2))\n",
    "\n",
    "    # TODO: Apply a Flatten Layer\n",
    "    # Function Definition from Above:\n",
    "    #   flatten(x_tensor)\n",
    "    \n",
    "    x = flatten(x)\n",
    "\n",
    "    # TODO: Apply 1, 2, or 3 Fully Connected Layers\n",
    "    #    Play around with different number of outputs\n",
    "    # Function Definition from Above:\n",
    "    #   fully_conn(x_tensor, num_outputs)\n",
    "    \n",
    "    x = fully_conn(x, num_outputs=786)\n",
    "    x = fully_conn(x, num_outputs=786)\n",
    "    x = tf.nn.dropout(x, keep_prob)\n",
    "    \n",
    "    # TODO: Apply an Output Layer\n",
    "    #    Set this to the number of classes\n",
    "    # Function Definition from Above:\n",
    "    #   output(x_tensor, num_outputs)\n",
    "    \n",
    "    x = output(x, num_outputs=10)\n",
    "    \n",
    "    # TODO: return output\n",
    "    #return None\n",
    "    \n",
    "    return x\n",
    "\n",
    "\n",
    "\"\"\"\n",
    "DON'T MODIFY ANYTHING IN THIS CELL THAT IS BELOW THIS LINE\n",
    "\"\"\"\n",
    "\n",
    "##############################\n",
    "## Build the Neural Network ##\n",
    "##############################\n",
    "\n",
    "# Remove previous weights, bias, inputs, etc..\n",
    "tf.reset_default_graph()\n",
    "\n",
    "# Inputs\n",
    "x = neural_net_image_input((32, 32, 3))\n",
    "y = neural_net_label_input(10)\n",
    "keep_prob = neural_net_keep_prob_input()\n",
    "\n",
    "# Model\n",
    "logits = conv_net(x, keep_prob)\n",
    "\n",
    "# Name logits Tensor, so that is can be loaded from disk after training\n",
    "logits = tf.identity(logits, name='logits')\n",
    "\n",
    "# Loss and Optimizer\n",
    "cost = tf.reduce_mean(tf.nn.softmax_cross_entropy_with_logits(logits=logits, labels=y))\n",
    "optimizer = tf.train.AdamOptimizer().minimize(cost)\n",
    "\n",
    "# Accuracy\n",
    "correct_pred = tf.equal(tf.argmax(logits, 1), tf.argmax(y, 1))\n",
    "accuracy = tf.reduce_mean(tf.cast(correct_pred, tf.float32), name='accuracy')\n",
    "\n",
    "tests.test_conv_net(conv_net)"
   ]
  },
  {
   "cell_type": "markdown",
   "metadata": {
    "deletable": true,
    "editable": true
   },
   "source": [
    "## Train the Neural Network\n",
    "### Single Optimization\n",
    "Implement the function `train_neural_network` to do a single optimization.  The optimization should use `optimizer` to optimize in `session` with a `feed_dict` of the following:\n",
    "* `x` for image input\n",
    "* `y` for labels\n",
    "* `keep_prob` for keep probability for dropout\n",
    "\n",
    "This function will be called for each batch, so `tf.global_variables_initializer()` has already been called.\n",
    "\n",
    "Note: Nothing needs to be returned. This function is only optimizing the neural network."
   ]
  },
  {
   "cell_type": "code",
   "execution_count": 13,
   "metadata": {
    "collapsed": false,
    "deletable": true,
    "editable": true
   },
   "outputs": [
    {
     "name": "stdout",
     "output_type": "stream",
     "text": [
      "Tests Passed\n"
     ]
    }
   ],
   "source": [
    "def train_neural_network(session, optimizer, keep_probability, feature_batch, label_batch):\n",
    "    \"\"\"\n",
    "    Optimize the session on a batch of images and labels\n",
    "    : session: Current TensorFlow session\n",
    "    : optimizer: TensorFlow optimizer function\n",
    "    : keep_probability: keep probability\n",
    "    : feature_batch: Batch of Numpy image data\n",
    "    : label_batch: Batch of Numpy label data\n",
    "    \"\"\"\n",
    "    # TODO: Implement Function\n",
    "    feed_dict = {'keep_prob:0': keep_probability, 'x:0': feature_batch, 'y:0': label_batch}\n",
    "    session.run(optimizer, feed_dict=feed_dict)\n",
    "    \n",
    "\"\"\"\n",
    "DON'T MODIFY ANYTHING IN THIS CELL THAT IS BELOW THIS LINE\n",
    "\"\"\"\n",
    "tests.test_train_nn(train_neural_network)"
   ]
  },
  {
   "cell_type": "markdown",
   "metadata": {
    "deletable": true,
    "editable": true
   },
   "source": [
    "### Show Stats\n",
    "Implement the function `print_stats` to print loss and validation accuracy.  Use the global variables `valid_features` and `valid_labels` to calculate validation accuracy.  Use a keep probability of `1.0` to calculate the loss and validation accuracy."
   ]
  },
  {
   "cell_type": "code",
   "execution_count": 14,
   "metadata": {
    "collapsed": false,
    "deletable": true,
    "editable": true
   },
   "outputs": [],
   "source": [
    "def print_stats(session, feature_batch, label_batch, cost, accuracy):\n",
    "    \"\"\"\n",
    "    Print information about loss and validation accuracy\n",
    "    : session: Current TensorFlow session\n",
    "    : feature_batch: Batch of Numpy image data\n",
    "    : label_batch: Batch of Numpy label data\n",
    "    : cost: TensorFlow cost function\n",
    "    : accuracy: TensorFlow accuracy function\n",
    "    \"\"\"\n",
    "    # TODO: Implement Function\n",
    "    feed_cost = {'keep_prob:0': 1.0, 'x:0': feature_batch, 'y:0': label_batch}\n",
    "    feed_valid = {'keep_prob:0': 1.0, 'x:0': valid_features, 'y:0': valid_labels}\n",
    "    cost = session.run(cost, feed_dict=feed_cost)\n",
    "    accuracy = session.run(accuracy, feed_dict=feed_valid)\n",
    "    print(\"cost: {}, accuracy: {}\".format(cost, accuracy))"
   ]
  },
  {
   "cell_type": "markdown",
   "metadata": {
    "deletable": true,
    "editable": true
   },
   "source": [
    "### Hyperparameters\n",
    "Tune the following parameters:\n",
    "* Set `epochs` to the number of iterations until the network stops learning or start overfitting\n",
    "* Set `batch_size` to the highest number that your machine has memory for.  Most people set them to common sizes of memory:\n",
    " * 64\n",
    " * 128\n",
    " * 256\n",
    " * ...\n",
    "* Set `keep_probability` to the probability of keeping a node using dropout"
   ]
  },
  {
   "cell_type": "code",
   "execution_count": 15,
   "metadata": {
    "collapsed": true,
    "deletable": true,
    "editable": true
   },
   "outputs": [],
   "source": [
    "# TODO: Tune Parameters\n",
    "epochs = 50\n",
    "batch_size = 128\n",
    "keep_probability = 0.8"
   ]
  },
  {
   "cell_type": "markdown",
   "metadata": {
    "deletable": true,
    "editable": true
   },
   "source": [
    "### Train on a Single CIFAR-10 Batch\n",
    "Instead of training the neural network on all the CIFAR-10 batches of data, let's use a single batch. This should save time while you iterate on the model to get a better accuracy.  Once the final validation accuracy is 50% or greater, run the model on all the data in the next section."
   ]
  },
  {
   "cell_type": "code",
   "execution_count": 16,
   "metadata": {
    "collapsed": false,
    "deletable": true,
    "editable": true
   },
   "outputs": [
    {
     "name": "stdout",
     "output_type": "stream",
     "text": [
      "Checking the Training on a Single Batch...\n",
      "Epoch  1, CIFAR-10 Batch 1:  cost: 2.0484697818756104, accuracy: 0.3423999845981598\n",
      "Epoch  2, CIFAR-10 Batch 1:  cost: 1.6960783004760742, accuracy: 0.4243999719619751\n",
      "Epoch  3, CIFAR-10 Batch 1:  cost: 1.4745640754699707, accuracy: 0.4415999948978424\n",
      "Epoch  4, CIFAR-10 Batch 1:  cost: 1.2401593923568726, accuracy: 0.47339990735054016\n",
      "Epoch  5, CIFAR-10 Batch 1:  cost: 1.024641513824463, accuracy: 0.5065999627113342\n",
      "Epoch  6, CIFAR-10 Batch 1:  cost: 0.9653294086456299, accuracy: 0.5021999478340149\n",
      "Epoch  7, CIFAR-10 Batch 1:  cost: 0.797553539276123, accuracy: 0.5037999153137207\n",
      "Epoch  8, CIFAR-10 Batch 1:  cost: 0.5652304291725159, accuracy: 0.5215999484062195\n",
      "Epoch  9, CIFAR-10 Batch 1:  cost: 0.369211345911026, accuracy: 0.5191999673843384\n",
      "Epoch 10, CIFAR-10 Batch 1:  cost: 0.2883756160736084, accuracy: 0.5209999680519104\n",
      "Epoch 11, CIFAR-10 Batch 1:  cost: 0.21767500042915344, accuracy: 0.5097999572753906\n",
      "Epoch 12, CIFAR-10 Batch 1:  cost: 0.18699118494987488, accuracy: 0.5165999531745911\n",
      "Epoch 13, CIFAR-10 Batch 1:  cost: 0.11707162111997604, accuracy: 0.5181999206542969\n",
      "Epoch 14, CIFAR-10 Batch 1:  cost: 0.07470706105232239, accuracy: 0.5291999578475952\n",
      "Epoch 15, CIFAR-10 Batch 1:  cost: 0.056589484214782715, accuracy: 0.5313999652862549\n",
      "Epoch 16, CIFAR-10 Batch 1:  cost: 0.036742161959409714, accuracy: 0.5471999645233154\n",
      "Epoch 17, CIFAR-10 Batch 1:  cost: 0.015925126150250435, accuracy: 0.547999918460846\n",
      "Epoch 18, CIFAR-10 Batch 1:  cost: 0.014342301525175571, accuracy: 0.5413998961448669\n",
      "Epoch 19, CIFAR-10 Batch 1:  cost: 0.010589179582893848, accuracy: 0.5397999286651611\n",
      "Epoch 20, CIFAR-10 Batch 1:  cost: 0.019776487722992897, accuracy: 0.5419999361038208\n",
      "Epoch 21, CIFAR-10 Batch 1:  cost: 0.01208020281046629, accuracy: 0.530799925327301\n",
      "Epoch 22, CIFAR-10 Batch 1:  cost: 0.006797356531023979, accuracy: 0.53739994764328\n",
      "Epoch 23, CIFAR-10 Batch 1:  cost: 0.008025899529457092, accuracy: 0.5293999314308167\n",
      "Epoch 24, CIFAR-10 Batch 1:  cost: 0.007680763956159353, accuracy: 0.5443999171257019\n",
      "Epoch 25, CIFAR-10 Batch 1:  cost: 0.00362568162381649, accuracy: 0.5399999618530273\n",
      "Epoch 26, CIFAR-10 Batch 1:  cost: 0.005070112179964781, accuracy: 0.5383999347686768\n",
      "Epoch 27, CIFAR-10 Batch 1:  cost: 0.004406688269227743, accuracy: 0.5343999862670898\n",
      "Epoch 28, CIFAR-10 Batch 1:  cost: 0.001237675896845758, accuracy: 0.539199948310852\n",
      "Epoch 29, CIFAR-10 Batch 1:  cost: 0.0007070402498356998, accuracy: 0.5427999496459961\n",
      "Epoch 30, CIFAR-10 Batch 1:  cost: 0.0006579572218470275, accuracy: 0.5263999700546265\n",
      "Epoch 31, CIFAR-10 Batch 1:  cost: 0.0014747356763109565, accuracy: 0.5351999998092651\n",
      "Epoch 32, CIFAR-10 Batch 1:  cost: 0.004076105542480946, accuracy: 0.5301999449729919\n",
      "Epoch 33, CIFAR-10 Batch 1:  cost: 0.0006255754851736128, accuracy: 0.5409999489784241\n",
      "Epoch 34, CIFAR-10 Batch 1:  cost: 0.0005315294838510454, accuracy: 0.5409998893737793\n",
      "Epoch 35, CIFAR-10 Batch 1:  cost: 0.0002463004784658551, accuracy: 0.5323998928070068\n",
      "Epoch 36, CIFAR-10 Batch 1:  cost: 0.0009389703627675772, accuracy: 0.5347999334335327\n",
      "Epoch 37, CIFAR-10 Batch 1:  cost: 0.0009285120759159327, accuracy: 0.547999918460846\n",
      "Epoch 38, CIFAR-10 Batch 1:  cost: 0.0007622812408953905, accuracy: 0.5521999001502991\n",
      "Epoch 39, CIFAR-10 Batch 1:  cost: 0.0007793460390530527, accuracy: 0.530799925327301\n",
      "Epoch 40, CIFAR-10 Batch 1:  cost: 0.0021881686989217997, accuracy: 0.5271999835968018\n",
      "Epoch 41, CIFAR-10 Batch 1:  cost: 0.0006496920250356197, accuracy: 0.533799946308136\n",
      "Epoch 42, CIFAR-10 Batch 1:  cost: 0.0005817406345158815, accuracy: 0.5517999529838562\n",
      "Epoch 43, CIFAR-10 Batch 1:  cost: 0.0006102519109845161, accuracy: 0.5389999151229858\n",
      "Epoch 44, CIFAR-10 Batch 1:  cost: 0.000781583075877279, accuracy: 0.5495998859405518\n",
      "Epoch 45, CIFAR-10 Batch 1:  cost: 0.0002898243837989867, accuracy: 0.5469999313354492\n",
      "Epoch 46, CIFAR-10 Batch 1:  cost: 0.0004105938714928925, accuracy: 0.530799925327301\n",
      "Epoch 47, CIFAR-10 Batch 1:  cost: 0.0012574910651892424, accuracy: 0.5237999558448792\n",
      "Epoch 48, CIFAR-10 Batch 1:  cost: 0.0025903095956891775, accuracy: 0.5383999347686768\n",
      "Epoch 49, CIFAR-10 Batch 1:  cost: 0.0028076795861124992, accuracy: 0.5423999428749084\n",
      "Epoch 50, CIFAR-10 Batch 1:  cost: 0.003842785255983472, accuracy: 0.5331999063491821\n"
     ]
    }
   ],
   "source": [
    "\"\"\"\n",
    "DON'T MODIFY ANYTHING IN THIS CELL\n",
    "\"\"\"\n",
    "print('Checking the Training on a Single Batch...')\n",
    "with tf.Session() as sess:\n",
    "    # Initializing the variables\n",
    "    sess.run(tf.global_variables_initializer())\n",
    "    \n",
    "    # Training cycle\n",
    "    for epoch in range(epochs):\n",
    "        batch_i = 1\n",
    "        for batch_features, batch_labels in helper.load_preprocess_training_batch(batch_i, batch_size):\n",
    "            train_neural_network(sess, optimizer, keep_probability, batch_features, batch_labels)\n",
    "        print('Epoch {:>2}, CIFAR-10 Batch {}:  '.format(epoch + 1, batch_i), end='')\n",
    "        print_stats(sess, batch_features, batch_labels, cost, accuracy)"
   ]
  },
  {
   "cell_type": "markdown",
   "metadata": {
    "deletable": true,
    "editable": true
   },
   "source": [
    "### Fully Train the Model\n",
    "Now that you got a good accuracy with a single CIFAR-10 batch, try it with all five batches."
   ]
  },
  {
   "cell_type": "code",
   "execution_count": 17,
   "metadata": {
    "collapsed": false,
    "deletable": true,
    "editable": true
   },
   "outputs": [
    {
     "name": "stdout",
     "output_type": "stream",
     "text": [
      "Training...\n",
      "Epoch  1, CIFAR-10 Batch 1:  cost: 2.1355645656585693, accuracy: 0.23139998316764832\n",
      "Epoch  1, CIFAR-10 Batch 2:  cost: 1.6236920356750488, accuracy: 0.398999959230423\n",
      "Epoch  1, CIFAR-10 Batch 3:  cost: 1.2262030839920044, accuracy: 0.4235999584197998\n",
      "Epoch  1, CIFAR-10 Batch 4:  cost: 1.451629877090454, accuracy: 0.46359995007514954\n",
      "Epoch  1, CIFAR-10 Batch 5:  cost: 1.4526740312576294, accuracy: 0.524199903011322\n",
      "Epoch  2, CIFAR-10 Batch 1:  cost: 1.3524487018585205, accuracy: 0.5199999213218689\n",
      "Epoch  2, CIFAR-10 Batch 2:  cost: 1.1078006029129028, accuracy: 0.5203999280929565\n",
      "Epoch  2, CIFAR-10 Batch 3:  cost: 0.8531742691993713, accuracy: 0.5517998933792114\n",
      "Epoch  2, CIFAR-10 Batch 4:  cost: 0.9597897529602051, accuracy: 0.5585999488830566\n",
      "Epoch  2, CIFAR-10 Batch 5:  cost: 1.031425952911377, accuracy: 0.6047999858856201\n",
      "Epoch  3, CIFAR-10 Batch 1:  cost: 1.0944404602050781, accuracy: 0.585599958896637\n",
      "Epoch  3, CIFAR-10 Batch 2:  cost: 0.8964319229125977, accuracy: 0.5477999448776245\n",
      "Epoch  3, CIFAR-10 Batch 3:  cost: 0.6297889947891235, accuracy: 0.5793999433517456\n",
      "Epoch  3, CIFAR-10 Batch 4:  cost: 0.6309927701950073, accuracy: 0.6095999479293823\n",
      "Epoch  3, CIFAR-10 Batch 5:  cost: 0.724250316619873, accuracy: 0.6233999133110046\n",
      "Epoch  4, CIFAR-10 Batch 1:  cost: 0.833341121673584, accuracy: 0.6201999187469482\n",
      "Epoch  4, CIFAR-10 Batch 2:  cost: 0.6734738945960999, accuracy: 0.589199960231781\n",
      "Epoch  4, CIFAR-10 Batch 3:  cost: 0.4354351758956909, accuracy: 0.6349998712539673\n",
      "Epoch  4, CIFAR-10 Batch 4:  cost: 0.42171144485473633, accuracy: 0.6263999342918396\n",
      "Epoch  4, CIFAR-10 Batch 5:  cost: 0.4884219765663147, accuracy: 0.6365998983383179\n",
      "Epoch  5, CIFAR-10 Batch 1:  cost: 0.5927777290344238, accuracy: 0.6275998950004578\n",
      "Epoch  5, CIFAR-10 Batch 2:  cost: 0.4347538352012634, accuracy: 0.626599907875061\n",
      "Epoch  5, CIFAR-10 Batch 3:  cost: 0.32342326641082764, accuracy: 0.6301999092102051\n",
      "Epoch  5, CIFAR-10 Batch 4:  cost: 0.2776876389980316, accuracy: 0.6191999316215515\n",
      "Epoch  5, CIFAR-10 Batch 5:  cost: 0.307714581489563, accuracy: 0.6151999235153198\n",
      "Epoch  6, CIFAR-10 Batch 1:  cost: 0.40288007259368896, accuracy: 0.6345998644828796\n",
      "Epoch  6, CIFAR-10 Batch 2:  cost: 0.25738170742988586, accuracy: 0.6469998955726624\n",
      "Epoch  6, CIFAR-10 Batch 3:  cost: 0.22575660049915314, accuracy: 0.6535999178886414\n",
      "Epoch  6, CIFAR-10 Batch 4:  cost: 0.22238996624946594, accuracy: 0.6447999477386475\n",
      "Epoch  6, CIFAR-10 Batch 5:  cost: 0.20495986938476562, accuracy: 0.6295998692512512\n",
      "Epoch  7, CIFAR-10 Batch 1:  cost: 0.30492839217185974, accuracy: 0.6383998990058899\n",
      "Epoch  7, CIFAR-10 Batch 2:  cost: 0.20967192947864532, accuracy: 0.6305999159812927\n",
      "Epoch  7, CIFAR-10 Batch 3:  cost: 0.12498442828655243, accuracy: 0.6485998630523682\n",
      "Epoch  7, CIFAR-10 Batch 4:  cost: 0.15164783596992493, accuracy: 0.6469998955726624\n",
      "Epoch  7, CIFAR-10 Batch 5:  cost: 0.17265841364860535, accuracy: 0.6423998475074768\n",
      "Epoch  8, CIFAR-10 Batch 1:  cost: 0.1557614654302597, accuracy: 0.6419999003410339\n",
      "Epoch  8, CIFAR-10 Batch 2:  cost: 0.13576960563659668, accuracy: 0.6163999438285828\n",
      "Epoch  8, CIFAR-10 Batch 3:  cost: 0.08208583295345306, accuracy: 0.6169999241828918\n",
      "Epoch  8, CIFAR-10 Batch 4:  cost: 0.12192197144031525, accuracy: 0.6271998882293701\n",
      "Epoch  8, CIFAR-10 Batch 5:  cost: 0.1297391653060913, accuracy: 0.6123998761177063\n",
      "Epoch  9, CIFAR-10 Batch 1:  cost: 0.10520780086517334, accuracy: 0.6489998698234558\n",
      "Epoch  9, CIFAR-10 Batch 2:  cost: 0.08233614265918732, accuracy: 0.6453998684883118\n",
      "Epoch  9, CIFAR-10 Batch 3:  cost: 0.04901088774204254, accuracy: 0.6169999241828918\n",
      "Epoch  9, CIFAR-10 Batch 4:  cost: 0.059780966490507126, accuracy: 0.6325998902320862\n",
      "Epoch  9, CIFAR-10 Batch 5:  cost: 0.06871046870946884, accuracy: 0.644399881362915\n",
      "Epoch 10, CIFAR-10 Batch 1:  cost: 0.09228165447711945, accuracy: 0.6341999173164368\n",
      "Epoch 10, CIFAR-10 Batch 2:  cost: 0.06991466134786606, accuracy: 0.6475998759269714\n",
      "Epoch 10, CIFAR-10 Batch 3:  cost: 0.043040744960308075, accuracy: 0.63319993019104\n",
      "Epoch 10, CIFAR-10 Batch 4:  cost: 0.07666289061307907, accuracy: 0.6251999139785767\n",
      "Epoch 10, CIFAR-10 Batch 5:  cost: 0.06477715820074081, accuracy: 0.6363999247550964\n",
      "Epoch 11, CIFAR-10 Batch 1:  cost: 0.051613979041576385, accuracy: 0.6225999593734741\n",
      "Epoch 11, CIFAR-10 Batch 2:  cost: 0.04626284912228584, accuracy: 0.6335999369621277\n",
      "Epoch 11, CIFAR-10 Batch 3:  cost: 0.029826387763023376, accuracy: 0.6321998834609985\n",
      "Epoch 11, CIFAR-10 Batch 4:  cost: 0.01902027428150177, accuracy: 0.6409999132156372\n",
      "Epoch 11, CIFAR-10 Batch 5:  cost: 0.023267416283488274, accuracy: 0.653999924659729\n",
      "Epoch 12, CIFAR-10 Batch 1:  cost: 0.044150978326797485, accuracy: 0.6441999077796936\n",
      "Epoch 12, CIFAR-10 Batch 2:  cost: 0.017752155661582947, accuracy: 0.6153998970985413\n",
      "Epoch 12, CIFAR-10 Batch 3:  cost: 0.019023988395929337, accuracy: 0.6155999302864075\n",
      "Epoch 12, CIFAR-10 Batch 4:  cost: 0.03656663000583649, accuracy: 0.6289998888969421\n",
      "Epoch 12, CIFAR-10 Batch 5:  cost: 0.03335150331258774, accuracy: 0.6507998704910278\n",
      "Epoch 13, CIFAR-10 Batch 1:  cost: 0.033351022750139236, accuracy: 0.6405999064445496\n",
      "Epoch 13, CIFAR-10 Batch 2:  cost: 0.018462415784597397, accuracy: 0.6095998883247375\n",
      "Epoch 13, CIFAR-10 Batch 3:  cost: 0.010029967874288559, accuracy: 0.6427999138832092\n",
      "Epoch 13, CIFAR-10 Batch 4:  cost: 0.014152327552437782, accuracy: 0.6375998854637146\n",
      "Epoch 13, CIFAR-10 Batch 5:  cost: 0.0140725988894701, accuracy: 0.6537998914718628\n",
      "Epoch 14, CIFAR-10 Batch 1:  cost: 0.011724581010639668, accuracy: 0.6387998461723328\n",
      "Epoch 14, CIFAR-10 Batch 2:  cost: 0.013541510328650475, accuracy: 0.6121999025344849\n",
      "Epoch 14, CIFAR-10 Batch 3:  cost: 0.022273655980825424, accuracy: 0.6447998285293579\n",
      "Epoch 14, CIFAR-10 Batch 4:  cost: 0.017122743651270866, accuracy: 0.6319999098777771\n",
      "Epoch 14, CIFAR-10 Batch 5:  cost: 0.016675207763910294, accuracy: 0.6419999003410339\n",
      "Epoch 15, CIFAR-10 Batch 1:  cost: 0.011631974950432777, accuracy: 0.6557998657226562\n",
      "Epoch 15, CIFAR-10 Batch 2:  cost: 0.008638320490717888, accuracy: 0.6131999492645264\n",
      "Epoch 15, CIFAR-10 Batch 3:  cost: 0.008777481503784657, accuracy: 0.637799859046936\n",
      "Epoch 15, CIFAR-10 Batch 4:  cost: 0.008835291489958763, accuracy: 0.6323999166488647\n",
      "Epoch 15, CIFAR-10 Batch 5:  cost: 0.018740037456154823, accuracy: 0.6489998698234558\n",
      "Epoch 16, CIFAR-10 Batch 1:  cost: 0.005970772355794907, accuracy: 0.6511998772621155\n",
      "Epoch 16, CIFAR-10 Batch 2:  cost: 0.009716294705867767, accuracy: 0.6119998693466187\n",
      "Epoch 16, CIFAR-10 Batch 3:  cost: 0.004113967530429363, accuracy: 0.6403998732566833\n",
      "Epoch 16, CIFAR-10 Batch 4:  cost: 0.0069251228123903275, accuracy: 0.645599901676178\n",
      "Epoch 16, CIFAR-10 Batch 5:  cost: 0.010614145547151566, accuracy: 0.642599880695343\n",
      "Epoch 17, CIFAR-10 Batch 1:  cost: 0.020673366263508797, accuracy: 0.63319993019104\n",
      "Epoch 17, CIFAR-10 Batch 2:  cost: 0.02679004892706871, accuracy: 0.5883999466896057\n",
      "Epoch 17, CIFAR-10 Batch 3:  cost: 0.003815598785877228, accuracy: 0.6525998711585999\n",
      "Epoch 17, CIFAR-10 Batch 4:  cost: 0.007828437723219395, accuracy: 0.6483998894691467\n",
      "Epoch 17, CIFAR-10 Batch 5:  cost: 0.010695334523916245, accuracy: 0.6637998819351196\n",
      "Epoch 18, CIFAR-10 Batch 1:  cost: 0.008547655306756496, accuracy: 0.6253998875617981\n",
      "Epoch 18, CIFAR-10 Batch 2:  cost: 0.009117087349295616, accuracy: 0.5987999439239502\n",
      "Epoch 18, CIFAR-10 Batch 3:  cost: 0.00429266132414341, accuracy: 0.6373998522758484\n",
      "Epoch 18, CIFAR-10 Batch 4:  cost: 0.004346394911408424, accuracy: 0.637199878692627\n",
      "Epoch 18, CIFAR-10 Batch 5:  cost: 0.003050441388040781, accuracy: 0.6615999341011047\n",
      "Epoch 19, CIFAR-10 Batch 1:  cost: 0.0024937321431934834, accuracy: 0.6309999227523804\n",
      "Epoch 19, CIFAR-10 Batch 2:  cost: 0.008166221901774406, accuracy: 0.6109998822212219\n",
      "Epoch 19, CIFAR-10 Batch 3:  cost: 0.0015572881093248725, accuracy: 0.6423999071121216\n",
      "Epoch 19, CIFAR-10 Batch 4:  cost: 0.003077724715694785, accuracy: 0.6365998983383179\n",
      "Epoch 19, CIFAR-10 Batch 5:  cost: 0.01097961887717247, accuracy: 0.6565998792648315\n",
      "Epoch 20, CIFAR-10 Batch 1:  cost: 0.0016844348283484578, accuracy: 0.6327999234199524\n",
      "Epoch 20, CIFAR-10 Batch 2:  cost: 0.003707711584866047, accuracy: 0.624799907207489\n",
      "Epoch 20, CIFAR-10 Batch 3:  cost: 0.002356278942897916, accuracy: 0.6313998699188232\n",
      "Epoch 20, CIFAR-10 Batch 4:  cost: 0.0020164293237030506, accuracy: 0.6365998983383179\n",
      "Epoch 20, CIFAR-10 Batch 5:  cost: 0.0009124742355197668, accuracy: 0.6421998739242554\n",
      "Epoch 21, CIFAR-10 Batch 1:  cost: 0.0034136318136006594, accuracy: 0.6395999789237976\n",
      "Epoch 21, CIFAR-10 Batch 2:  cost: 0.0016052304999902844, accuracy: 0.643799901008606\n",
      "Epoch 21, CIFAR-10 Batch 3:  cost: 0.003975553438067436, accuracy: 0.6349998712539673\n",
      "Epoch 21, CIFAR-10 Batch 4:  cost: 0.0011974856024608016, accuracy: 0.6427999138832092\n",
      "Epoch 21, CIFAR-10 Batch 5:  cost: 0.0034105516970157623, accuracy: 0.6471999287605286\n",
      "Epoch 22, CIFAR-10 Batch 1:  cost: 0.006704187486320734, accuracy: 0.6201999187469482\n",
      "Epoch 22, CIFAR-10 Batch 2:  cost: 0.0015089289518073201, accuracy: 0.6483999490737915\n",
      "Epoch 22, CIFAR-10 Batch 3:  cost: 0.0011327300453558564, accuracy: 0.6353998780250549\n",
      "Epoch 22, CIFAR-10 Batch 4:  cost: 0.0016634163912385702, accuracy: 0.6405999064445496\n",
      "Epoch 22, CIFAR-10 Batch 5:  cost: 0.0018178216414526105, accuracy: 0.650999903678894\n",
      "Epoch 23, CIFAR-10 Batch 1:  cost: 0.003634967841207981, accuracy: 0.6281999349594116\n",
      "Epoch 23, CIFAR-10 Batch 2:  cost: 0.0013901997590437531, accuracy: 0.6367998719215393\n",
      "Epoch 23, CIFAR-10 Batch 3:  cost: 0.0027606990188360214, accuracy: 0.6461998224258423\n",
      "Epoch 23, CIFAR-10 Batch 4:  cost: 0.0028789311181753874, accuracy: 0.644399881362915\n",
      "Epoch 23, CIFAR-10 Batch 5:  cost: 0.0033890842460095882, accuracy: 0.6353998780250549\n",
      "Epoch 24, CIFAR-10 Batch 1:  cost: 0.0012421937426552176, accuracy: 0.6353999376296997\n",
      "Epoch 24, CIFAR-10 Batch 2:  cost: 0.00027833422063849866, accuracy: 0.6543998718261719\n",
      "Epoch 24, CIFAR-10 Batch 3:  cost: 0.00049177510663867, accuracy: 0.6377999186515808\n",
      "Epoch 24, CIFAR-10 Batch 4:  cost: 0.011574280448257923, accuracy: 0.6317999362945557\n",
      "Epoch 24, CIFAR-10 Batch 5:  cost: 0.0005935645895078778, accuracy: 0.64739990234375\n",
      "Epoch 25, CIFAR-10 Batch 1:  cost: 0.0023132632486522198, accuracy: 0.6303999423980713\n",
      "Epoch 25, CIFAR-10 Batch 2:  cost: 0.0021146144717931747, accuracy: 0.6541998386383057\n",
      "Epoch 25, CIFAR-10 Batch 3:  cost: 0.0007784441695548594, accuracy: 0.640799880027771\n",
      "Epoch 25, CIFAR-10 Batch 4:  cost: 0.0011274614371359348, accuracy: 0.651999831199646\n",
      "Epoch 25, CIFAR-10 Batch 5:  cost: 0.002243103925138712, accuracy: 0.6417998671531677\n",
      "Epoch 26, CIFAR-10 Batch 1:  cost: 0.00035109202144667506, accuracy: 0.6365998983383179\n",
      "Epoch 26, CIFAR-10 Batch 2:  cost: 0.002277801278978586, accuracy: 0.6481998562812805\n",
      "Epoch 26, CIFAR-10 Batch 3:  cost: 0.0026180176064372063, accuracy: 0.642599880695343\n",
      "Epoch 26, CIFAR-10 Batch 4:  cost: 0.003904938232153654, accuracy: 0.6341999173164368\n",
      "Epoch 26, CIFAR-10 Batch 5:  cost: 0.003209597198292613, accuracy: 0.6375999450683594\n",
      "Epoch 27, CIFAR-10 Batch 1:  cost: 0.0014258550945669413, accuracy: 0.6475998163223267\n",
      "Epoch 27, CIFAR-10 Batch 2:  cost: 0.0032994381617754698, accuracy: 0.650999903678894\n",
      "Epoch 27, CIFAR-10 Batch 3:  cost: 0.00020599449635483325, accuracy: 0.6487998962402344\n",
      "Epoch 27, CIFAR-10 Batch 4:  cost: 0.0019354959949851036, accuracy: 0.6441999077796936\n",
      "Epoch 27, CIFAR-10 Batch 5:  cost: 0.0012481032172217965, accuracy: 0.6499998569488525\n",
      "Epoch 28, CIFAR-10 Batch 1:  cost: 0.0010689934715628624, accuracy: 0.6405999064445496\n",
      "Epoch 28, CIFAR-10 Batch 2:  cost: 0.0013282282743602991, accuracy: 0.6573998928070068\n",
      "Epoch 28, CIFAR-10 Batch 3:  cost: 0.0012721946695819497, accuracy: 0.645599901676178\n",
      "Epoch 28, CIFAR-10 Batch 4:  cost: 0.005514722783118486, accuracy: 0.6507998704910278\n",
      "Epoch 28, CIFAR-10 Batch 5:  cost: 0.0016371182864531875, accuracy: 0.6431999206542969\n",
      "Epoch 29, CIFAR-10 Batch 1:  cost: 0.0011044176062569022, accuracy: 0.652199923992157\n",
      "Epoch 29, CIFAR-10 Batch 2:  cost: 0.0059574441984295845, accuracy: 0.6437999606132507\n",
      "Epoch 29, CIFAR-10 Batch 3:  cost: 0.0007419785833917558, accuracy: 0.6477998495101929\n",
      "Epoch 29, CIFAR-10 Batch 4:  cost: 0.004083950072526932, accuracy: 0.6505998969078064\n",
      "Epoch 29, CIFAR-10 Batch 5:  cost: 0.0005678095039911568, accuracy: 0.6549999117851257\n",
      "Epoch 30, CIFAR-10 Batch 1:  cost: 0.003513022093102336, accuracy: 0.640799880027771\n",
      "Epoch 30, CIFAR-10 Batch 2:  cost: 0.0014336128951981664, accuracy: 0.6461998820304871\n",
      "Epoch 30, CIFAR-10 Batch 3:  cost: 0.00040470686508342624, accuracy: 0.6507998704910278\n",
      "Epoch 30, CIFAR-10 Batch 4:  cost: 0.0027982224710285664, accuracy: 0.6513998508453369\n",
      "Epoch 30, CIFAR-10 Batch 5:  cost: 0.0013483351795002818, accuracy: 0.6481998562812805\n",
      "Epoch 31, CIFAR-10 Batch 1:  cost: 0.000377169024432078, accuracy: 0.6627998352050781\n",
      "Epoch 31, CIFAR-10 Batch 2:  cost: 0.0024029992055147886, accuracy: 0.634199857711792\n",
      "Epoch 31, CIFAR-10 Batch 3:  cost: 0.00039416830986738205, accuracy: 0.6423999071121216\n",
      "Epoch 31, CIFAR-10 Batch 4:  cost: 0.0017165022436529398, accuracy: 0.650999903678894\n",
      "Epoch 31, CIFAR-10 Batch 5:  cost: 0.0007929872954264283, accuracy: 0.6511999368667603\n",
      "Epoch 32, CIFAR-10 Batch 1:  cost: 0.0004328462528064847, accuracy: 0.6565998792648315\n",
      "Epoch 32, CIFAR-10 Batch 2:  cost: 0.002550885546952486, accuracy: 0.6383998990058899\n",
      "Epoch 32, CIFAR-10 Batch 3:  cost: 0.0023070203606039286, accuracy: 0.64739990234375\n",
      "Epoch 32, CIFAR-10 Batch 4:  cost: 0.0010274361120536923, accuracy: 0.6529998779296875\n",
      "Epoch 32, CIFAR-10 Batch 5:  cost: 0.00021671953436452895, accuracy: 0.6581998467445374\n",
      "Epoch 33, CIFAR-10 Batch 1:  cost: 0.0015532030956819654, accuracy: 0.6515998840332031\n",
      "Epoch 33, CIFAR-10 Batch 2:  cost: 0.0002327511174371466, accuracy: 0.6301999092102051\n",
      "Epoch 33, CIFAR-10 Batch 3:  cost: 0.001670313999056816, accuracy: 0.6515998840332031\n",
      "Epoch 33, CIFAR-10 Batch 4:  cost: 0.00574134336784482, accuracy: 0.6583998799324036\n",
      "Epoch 33, CIFAR-10 Batch 5:  cost: 0.00027355586644262075, accuracy: 0.6485998630523682\n",
      "Epoch 34, CIFAR-10 Batch 1:  cost: 0.002686411840841174, accuracy: 0.6559998989105225\n",
      "Epoch 34, CIFAR-10 Batch 2:  cost: 0.0002922586863860488, accuracy: 0.6465998888015747\n",
      "Epoch 34, CIFAR-10 Batch 3:  cost: 0.002805928699672222, accuracy: 0.649199903011322\n",
      "Epoch 34, CIFAR-10 Batch 4:  cost: 0.00036386330612003803, accuracy: 0.6541998982429504\n",
      "Epoch 34, CIFAR-10 Batch 5:  cost: 0.003596850670874119, accuracy: 0.6451998949050903\n",
      "Epoch 35, CIFAR-10 Batch 1:  cost: 0.00019681382400449365, accuracy: 0.6411998867988586\n",
      "Epoch 35, CIFAR-10 Batch 2:  cost: 0.0003307629667688161, accuracy: 0.6505998969078064\n",
      "Epoch 35, CIFAR-10 Batch 3:  cost: 0.0011719121830537915, accuracy: 0.6527999043464661\n",
      "Epoch 35, CIFAR-10 Batch 4:  cost: 0.00019098313350696117, accuracy: 0.6459999084472656\n",
      "Epoch 35, CIFAR-10 Batch 5:  cost: 0.001118187909014523, accuracy: 0.6463998556137085\n",
      "Epoch 36, CIFAR-10 Batch 1:  cost: 0.0015232485020533204, accuracy: 0.6435998678207397\n",
      "Epoch 36, CIFAR-10 Batch 2:  cost: 0.0017036048229783773, accuracy: 0.6559998989105225\n",
      "Epoch 36, CIFAR-10 Batch 3:  cost: 0.004384024068713188, accuracy: 0.6609998941421509\n",
      "Epoch 36, CIFAR-10 Batch 4:  cost: 0.0003781831474043429, accuracy: 0.6483998894691467\n",
      "Epoch 36, CIFAR-10 Batch 5:  cost: 0.00034776152460835874, accuracy: 0.6459999680519104\n",
      "Epoch 37, CIFAR-10 Batch 1:  cost: 0.00028224807465448976, accuracy: 0.6323999166488647\n",
      "Epoch 37, CIFAR-10 Batch 2:  cost: 0.0011349384440109134, accuracy: 0.6459999084472656\n",
      "Epoch 37, CIFAR-10 Batch 3:  cost: 0.015164516866207123, accuracy: 0.6397998929023743\n",
      "Epoch 37, CIFAR-10 Batch 4:  cost: 0.0004869759432040155, accuracy: 0.645599901676178\n",
      "Epoch 37, CIFAR-10 Batch 5:  cost: 0.0012605775846168399, accuracy: 0.6543998718261719\n",
      "Epoch 38, CIFAR-10 Batch 1:  cost: 2.949236295535229e-05, accuracy: 0.6451999545097351\n",
      "Epoch 38, CIFAR-10 Batch 2:  cost: 0.0014000958763062954, accuracy: 0.6431998610496521\n",
      "Epoch 38, CIFAR-10 Batch 3:  cost: 0.00014647030911874026, accuracy: 0.6447998881340027\n",
      "Epoch 38, CIFAR-10 Batch 4:  cost: 0.0005164360045455396, accuracy: 0.6501998901367188\n",
      "Epoch 38, CIFAR-10 Batch 5:  cost: 0.00038991362089291215, accuracy: 0.645599901676178\n",
      "Epoch 39, CIFAR-10 Batch 1:  cost: 2.065468652290292e-05, accuracy: 0.6349999308586121\n",
      "Epoch 39, CIFAR-10 Batch 2:  cost: 0.0017480291426181793, accuracy: 0.6429998874664307\n",
      "Epoch 39, CIFAR-10 Batch 3:  cost: 0.00010572161409072578, accuracy: 0.6343998908996582\n",
      "Epoch 39, CIFAR-10 Batch 4:  cost: 0.0005463914130814373, accuracy: 0.6449999213218689\n",
      "Epoch 39, CIFAR-10 Batch 5:  cost: 6.468231731560081e-05, accuracy: 0.6427999138832092\n",
      "Epoch 40, CIFAR-10 Batch 1:  cost: 0.00014510560140479356, accuracy: 0.6469998955726624\n",
      "Epoch 40, CIFAR-10 Batch 2:  cost: 0.002333898562937975, accuracy: 0.6333999037742615\n",
      "Epoch 40, CIFAR-10 Batch 3:  cost: 0.00012201381468912587, accuracy: 0.64739990234375\n",
      "Epoch 40, CIFAR-10 Batch 4:  cost: 0.0007557601784355938, accuracy: 0.6459999084472656\n",
      "Epoch 40, CIFAR-10 Batch 5:  cost: 0.004669071175158024, accuracy: 0.6531999111175537\n",
      "Epoch 41, CIFAR-10 Batch 1:  cost: 0.007097382098436356, accuracy: 0.645599901676178\n",
      "Epoch 41, CIFAR-10 Batch 2:  cost: 0.0006754787173122168, accuracy: 0.6451998949050903\n",
      "Epoch 41, CIFAR-10 Batch 3:  cost: 0.00024194452271331102, accuracy: 0.637199878692627\n",
      "Epoch 41, CIFAR-10 Batch 4:  cost: 0.0006281992536969483, accuracy: 0.6501998901367188\n",
      "Epoch 41, CIFAR-10 Batch 5:  cost: 0.00010625453433021903, accuracy: 0.6489998698234558\n",
      "Epoch 42, CIFAR-10 Batch 1:  cost: 0.0019217698136344552, accuracy: 0.6351998448371887\n",
      "Epoch 42, CIFAR-10 Batch 2:  cost: 0.002092078560963273, accuracy: 0.6423999071121216\n",
      "Epoch 42, CIFAR-10 Batch 3:  cost: 0.004368868190795183, accuracy: 0.6185998916625977\n",
      "Epoch 42, CIFAR-10 Batch 4:  cost: 8.154595707310364e-05, accuracy: 0.6503998637199402\n",
      "Epoch 42, CIFAR-10 Batch 5:  cost: 0.0018249826971441507, accuracy: 0.6561999320983887\n",
      "Epoch 43, CIFAR-10 Batch 1:  cost: 0.0009684761753305793, accuracy: 0.6467998623847961\n",
      "Epoch 43, CIFAR-10 Batch 2:  cost: 0.0005426111165434122, accuracy: 0.6423998475074768\n",
      "Epoch 43, CIFAR-10 Batch 3:  cost: 0.00778502132743597, accuracy: 0.6409998536109924\n",
      "Epoch 43, CIFAR-10 Batch 4:  cost: 0.0035474698524922132, accuracy: 0.6445999145507812\n",
      "Epoch 43, CIFAR-10 Batch 5:  cost: 0.00027196682640351355, accuracy: 0.645599901676178\n",
      "Epoch 44, CIFAR-10 Batch 1:  cost: 0.0038731407839804888, accuracy: 0.6575998663902283\n",
      "Epoch 44, CIFAR-10 Batch 2:  cost: 0.0005939461989328265, accuracy: 0.6553999185562134\n",
      "Epoch 44, CIFAR-10 Batch 3:  cost: 7.625175931025296e-05, accuracy: 0.6463999152183533\n",
      "Epoch 44, CIFAR-10 Batch 4:  cost: 0.0017329973634332418, accuracy: 0.6515998840332031\n",
      "Epoch 44, CIFAR-10 Batch 5:  cost: 0.0007997793145477772, accuracy: 0.6559999585151672\n",
      "Epoch 45, CIFAR-10 Batch 1:  cost: 0.0011561920400708914, accuracy: 0.6553999185562134\n",
      "Epoch 45, CIFAR-10 Batch 2:  cost: 0.0011410906445235014, accuracy: 0.6485998630523682\n",
      "Epoch 45, CIFAR-10 Batch 3:  cost: 0.0002905938890762627, accuracy: 0.6423999071121216\n",
      "Epoch 45, CIFAR-10 Batch 4:  cost: 6.249532452784479e-05, accuracy: 0.6527998447418213\n",
      "Epoch 45, CIFAR-10 Batch 5:  cost: 7.842399645596743e-05, accuracy: 0.6513999104499817\n",
      "Epoch 46, CIFAR-10 Batch 1:  cost: 0.0002112884249072522, accuracy: 0.6561998724937439\n",
      "Epoch 46, CIFAR-10 Batch 2:  cost: 0.0010915936436504126, accuracy: 0.6555998921394348\n",
      "Epoch 46, CIFAR-10 Batch 3:  cost: 0.0002940804115496576, accuracy: 0.6441999077796936\n",
      "Epoch 46, CIFAR-10 Batch 4:  cost: 0.0008199072326533496, accuracy: 0.6489999294281006\n",
      "Epoch 46, CIFAR-10 Batch 5:  cost: 0.00013354257680475712, accuracy: 0.6531998515129089\n",
      "Epoch 47, CIFAR-10 Batch 1:  cost: 0.0004618674283847213, accuracy: 0.6465998888015747\n",
      "Epoch 47, CIFAR-10 Batch 2:  cost: 0.0004855702572967857, accuracy: 0.6585999131202698\n",
      "Epoch 47, CIFAR-10 Batch 3:  cost: 0.00011648947111098096, accuracy: 0.643799901008606\n",
      "Epoch 47, CIFAR-10 Batch 4:  cost: 0.00036887580063194036, accuracy: 0.6449998617172241\n",
      "Epoch 47, CIFAR-10 Batch 5:  cost: 0.000200872469577007, accuracy: 0.6419998407363892\n",
      "Epoch 48, CIFAR-10 Batch 1:  cost: 0.000558671832550317, accuracy: 0.6507998704910278\n",
      "Epoch 48, CIFAR-10 Batch 2:  cost: 0.0012677907943725586, accuracy: 0.6487998962402344\n",
      "Epoch 48, CIFAR-10 Batch 3:  cost: 0.0006892698584124446, accuracy: 0.6451998949050903\n",
      "Epoch 48, CIFAR-10 Batch 4:  cost: 0.00012216073810122907, accuracy: 0.6483998894691467\n",
      "Epoch 48, CIFAR-10 Batch 5:  cost: 0.0005806229310110211, accuracy: 0.644399881362915\n",
      "Epoch 49, CIFAR-10 Batch 1:  cost: 0.0005884430720470846, accuracy: 0.6521998643875122\n",
      "Epoch 49, CIFAR-10 Batch 2:  cost: 0.00011271692346781492, accuracy: 0.6475999355316162\n",
      "Epoch 49, CIFAR-10 Batch 3:  cost: 0.0002148472995031625, accuracy: 0.6519998908042908\n",
      "Epoch 49, CIFAR-10 Batch 4:  cost: 0.0001037068577716127, accuracy: 0.6463999152183533\n",
      "Epoch 49, CIFAR-10 Batch 5:  cost: 6.753220077371225e-05, accuracy: 0.6477999091148376\n",
      "Epoch 50, CIFAR-10 Batch 1:  cost: 0.0014170765643939376, accuracy: 0.6561998724937439\n",
      "Epoch 50, CIFAR-10 Batch 2:  cost: 0.00035243548336438835, accuracy: 0.6501998901367188\n",
      "Epoch 50, CIFAR-10 Batch 3:  cost: 0.00016907307144720107, accuracy: 0.6487998962402344\n",
      "Epoch 50, CIFAR-10 Batch 4:  cost: 0.002180042676627636, accuracy: 0.6381998658180237\n",
      "Epoch 50, CIFAR-10 Batch 5:  cost: 3.5085187846561894e-05, accuracy: 0.6583999395370483\n"
     ]
    }
   ],
   "source": [
    "\"\"\"\n",
    "DON'T MODIFY ANYTHING IN THIS CELL\n",
    "\"\"\"\n",
    "save_model_path = './image_classification'\n",
    "\n",
    "print('Training...')\n",
    "with tf.Session() as sess:\n",
    "    # Initializing the variables\n",
    "    sess.run(tf.global_variables_initializer())\n",
    "    \n",
    "    # Training cycle\n",
    "    for epoch in range(epochs):\n",
    "        # Loop over all batches\n",
    "        n_batches = 5\n",
    "        for batch_i in range(1, n_batches + 1):\n",
    "            for batch_features, batch_labels in helper.load_preprocess_training_batch(batch_i, batch_size):\n",
    "                train_neural_network(sess, optimizer, keep_probability, batch_features, batch_labels)\n",
    "            print('Epoch {:>2}, CIFAR-10 Batch {}:  '.format(epoch + 1, batch_i), end='')\n",
    "            print_stats(sess, batch_features, batch_labels, cost, accuracy)\n",
    "            \n",
    "    # Save Model\n",
    "    saver = tf.train.Saver()\n",
    "    save_path = saver.save(sess, save_model_path)"
   ]
  },
  {
   "cell_type": "markdown",
   "metadata": {
    "deletable": true,
    "editable": true
   },
   "source": [
    "# Checkpoint\n",
    "The model has been saved to disk.\n",
    "## Test Model\n",
    "Test your model against the test dataset.  This will be your final accuracy. You should have an accuracy greater than 50%. If you don't, keep tweaking the model architecture and parameters."
   ]
  },
  {
   "cell_type": "code",
   "execution_count": 18,
   "metadata": {
    "collapsed": false,
    "deletable": true,
    "editable": true
   },
   "outputs": [
    {
     "name": "stdout",
     "output_type": "stream",
     "text": [
      "Testing Accuracy: 0.647745253164557\n",
      "\n"
     ]
    },
    {
     "data": {
      "image/png": "[encoded data removed]",
      "text/plain": [
       "<matplotlib.figure.Figure at 0x7f4a044bef60>"
      ]
     },
     "metadata": {
      "image/png": {
       "height": 319,
       "width": 355
      }
     },
     "output_type": "display_data"
    }
   ],
   "source": [
    "\"\"\"\n",
    "DON'T MODIFY ANYTHING IN THIS CELL\n",
    "\"\"\"\n",
    "%matplotlib inline\n",
    "%config InlineBackend.figure_format = 'retina'\n",
    "\n",
    "import tensorflow as tf\n",
    "import pickle\n",
    "import helper\n",
    "import random\n",
    "\n",
    "# Set batch size if not already set\n",
    "try:\n",
    "    if batch_size:\n",
    "        pass\n",
    "except NameError:\n",
    "    batch_size = 64\n",
    "\n",
    "save_model_path = './image_classification'\n",
    "n_samples = 4\n",
    "top_n_predictions = 3\n",
    "\n",
    "def test_model():\n",
    "    \"\"\"\n",
    "    Test the saved model against the test dataset\n",
    "    \"\"\"\n",
    "\n",
    "    test_features, test_labels = pickle.load(open('preprocess_training.p', mode='rb'))\n",
    "    loaded_graph = tf.Graph()\n",
    "\n",
    "    with tf.Session(graph=loaded_graph) as sess:\n",
    "        # Load model\n",
    "        loader = tf.train.import_meta_graph(save_model_path + '.meta')\n",
    "        loader.restore(sess, save_model_path)\n",
    "\n",
    "        # Get Tensors from loaded model\n",
    "        loaded_x = loaded_graph.get_tensor_by_name('x:0')\n",
    "        loaded_y = loaded_graph.get_tensor_by_name('y:0')\n",
    "        loaded_keep_prob = loaded_graph.get_tensor_by_name('keep_prob:0')\n",
    "        loaded_logits = loaded_graph.get_tensor_by_name('logits:0')\n",
    "        loaded_acc = loaded_graph.get_tensor_by_name('accuracy:0')\n",
    "        \n",
    "        # Get accuracy in batches for memory limitations\n",
    "        test_batch_acc_total = 0\n",
    "        test_batch_count = 0\n",
    "        \n",
    "        for train_feature_batch, train_label_batch in helper.batch_features_labels(test_features, test_labels, batch_size):\n",
    "            test_batch_acc_total += sess.run(\n",
    "                loaded_acc,\n",
    "                feed_dict={loaded_x: train_feature_batch, loaded_y: train_label_batch, loaded_keep_prob: 1.0})\n",
    "            test_batch_count += 1\n",
    "\n",
    "        print('Testing Accuracy: {}\\n'.format(test_batch_acc_total/test_batch_count))\n",
    "\n",
    "        # Print Random Samples\n",
    "        random_test_features, random_test_labels = tuple(zip(*random.sample(list(zip(test_features, test_labels)), n_samples)))\n",
    "        random_test_predictions = sess.run(\n",
    "            tf.nn.top_k(tf.nn.softmax(loaded_logits), top_n_predictions),\n",
    "            feed_dict={loaded_x: random_test_features, loaded_y: random_test_labels, loaded_keep_prob: 1.0})\n",
    "        helper.display_image_predictions(random_test_features, random_test_labels, random_test_predictions)\n",
    "\n",
    "\n",
    "test_model()"
   ]
  },
  {
   "cell_type": "markdown",
   "metadata": {
    "deletable": true,
    "editable": true
   },
   "source": [
    "## Why 50-70% Accuracy?\n",
    "You might be wondering why you can't get an accuracy any higher. First things first, 50% isn't bad for a simple CNN.  Pure guessing would get you 10% accuracy. However, you might notice people are getting scores [well above 70%](http://rodrigob.github.io/are_we_there_yet/build/classification_datasets_results.html#43494641522d3130).  That's because we haven't taught you all there is to know about neural networks. We still need to cover a few more techniques.\n",
    "## Submitting This Project\n",
    "When submitting this project, make sure to run all the cells before saving the notebook.  Save the notebook file as \"dlnd_image_classification.ipynb\" and save it as a HTML file under \"File\" -> \"Download as\".  Include the \"helper.py\" and \"problem_unittests.py\" files in your submission."
   ]
  }
 ],
 "metadata": {
  "anaconda-cloud": {},
  "kernelspec": {
   "display_name": "Python 3",
   "language": "python",
   "name": "python3"
  },
  "language_info": {
   "codemirror_mode": {
    "name": "ipython",
    "version": 3
   },
   "file_extension": ".py",
   "mimetype": "text/x-python",
   "name": "python",
   "nbconvert_exporter": "python",
   "pygments_lexer": "ipython3",
   "version": "3.5.2"
  },
  "widgets": {
   "state": {},
   "version": "1.1.2"
  }
 },
 "nbformat": 4,
 "nbformat_minor": 0
}
